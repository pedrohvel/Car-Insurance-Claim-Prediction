{
  "nbformat": 4,
  "nbformat_minor": 0,
  "metadata": {
    "colab": {
      "provenance": []
    },
    "kernelspec": {
      "name": "python3",
      "display_name": "Python 3"
    },
    "language_info": {
      "name": "python"
    }
  },
  "cells": [
    {
      "cell_type": "markdown",
      "source": [
        "# Preparação do ambiente"
      ],
      "metadata": {
        "id": "Muc50fRa7gCH"
      }
    },
    {
      "cell_type": "code",
      "source": [
        "!pip install pretty-confusion-matrix\n",
        "!pip install matplotlib --version=3.0.2"
      ],
      "metadata": {
        "id": "f0Oofr9w6kfA"
      },
      "execution_count": null,
      "outputs": []
    },
    {
      "cell_type": "code",
      "execution_count": 2,
      "metadata": {
        "id": "PGmD5c2eY-bU"
      },
      "outputs": [],
      "source": [
        "import pandas as pd\n",
        "import numpy as np\n",
        "import seaborn as sns\n",
        "\n",
        "from sklearn.model_selection import train_test_split\n",
        "from sklearn.ensemble import RandomForestClassifier \n",
        "from imblearn.combine import SMOTEENN \n",
        "\n",
        "from sklearn.metrics import accuracy_score, confusion_matrix, classification_report\n",
        "\n",
        "from pretty_confusion_matrix import pp_matrix_from_data"
      ]
    },
    {
      "cell_type": "markdown",
      "source": [
        "# Info"
      ],
      "metadata": {
        "id": "ivPoE24Lpn5t"
      }
    },
    {
      "cell_type": "code",
      "source": [
        "df  = pd.read_csv(\"/content/Car Insurance dataset.csv\")\n",
        "df.head(10)"
      ],
      "metadata": {
        "id": "DXcBEkOTZ2O7",
        "colab": {
          "base_uri": "https://localhost:8080/",
          "height": 456
        },
        "outputId": "3312b6d1-0335-4ae9-a57e-52a28e146e4c"
      },
      "execution_count": 3,
      "outputs": [
        {
          "output_type": "execute_result",
          "data": {
            "text/plain": [
              "  policy_id  policy_tenure  age_of_car  age_of_policyholder area_cluster  \\\n",
              "0   ID00001       0.515874        0.05             0.644231           C1   \n",
              "1   ID00002       0.672619        0.02             0.375000           C2   \n",
              "2   ID00003       0.841110        0.02             0.384615           C3   \n",
              "3   ID00004       0.900277        0.11             0.432692           C4   \n",
              "4   ID00005       0.596403        0.11             0.634615           C5   \n",
              "5   ID00006       1.018709        0.07             0.519231           C6   \n",
              "6   ID00007       0.097992        0.16             0.403846           C7   \n",
              "7   ID00008       0.509085        0.14             0.423077           C8   \n",
              "8   ID00009       0.282394        0.07             0.298077           C7   \n",
              "9   ID00010       0.566255        0.04             0.442308           C9   \n",
              "\n",
              "   population_density  make segment model fuel_type  ... is_brake_assist  \\\n",
              "0                4990     1       A    M1       CNG  ...              No   \n",
              "1               27003     1       A    M1       CNG  ...              No   \n",
              "2                4076     1       A    M1       CNG  ...              No   \n",
              "3               21622     1      C1    M2    Petrol  ...             Yes   \n",
              "4               34738     2       A    M3    Petrol  ...              No   \n",
              "5               13051     3      C2    M4    Diesel  ...             Yes   \n",
              "6                6112     4      B2    M5    Diesel  ...              No   \n",
              "7                8794     1      B2    M6    Petrol  ...             Yes   \n",
              "8                6112     3      C2    M4    Diesel  ...             Yes   \n",
              "9               17804     1      B2    M7    Petrol  ...             Yes   \n",
              "\n",
              "  is_power_door_locks is_central_locking  is_power_steering  \\\n",
              "0                  No                 No                Yes   \n",
              "1                  No                 No                Yes   \n",
              "2                  No                 No                Yes   \n",
              "3                 Yes                Yes                Yes   \n",
              "4                 Yes                Yes                Yes   \n",
              "5                 Yes                Yes                Yes   \n",
              "6                 Yes                Yes                Yes   \n",
              "7                 Yes                Yes                Yes   \n",
              "8                 Yes                Yes                Yes   \n",
              "9                 Yes                Yes                Yes   \n",
              "\n",
              "  is_driver_seat_height_adjustable is_day_night_rear_view_mirror is_ecw  \\\n",
              "0                               No                            No     No   \n",
              "1                               No                            No     No   \n",
              "2                               No                            No     No   \n",
              "3                              Yes                           Yes    Yes   \n",
              "4                               No                           Yes    Yes   \n",
              "5                              Yes                            No    Yes   \n",
              "6                               No                            No    Yes   \n",
              "7                              Yes                           Yes    Yes   \n",
              "8                              Yes                            No    Yes   \n",
              "9                              Yes                           Yes    Yes   \n",
              "\n",
              "  is_speed_alert ncap_rating is_claim  \n",
              "0            Yes           0        0  \n",
              "1            Yes           0        0  \n",
              "2            Yes           0        0  \n",
              "3            Yes           2        0  \n",
              "4            Yes           2        0  \n",
              "5            Yes           3        0  \n",
              "6            Yes           5        0  \n",
              "7            Yes           2        0  \n",
              "8            Yes           3        0  \n",
              "9            Yes           0        0  \n",
              "\n",
              "[10 rows x 44 columns]"
            ],
            "text/html": [
              "\n",
              "  <div id=\"df-cf4bfb4a-b87d-4d0f-9c44-bc17b8f355ef\">\n",
              "    <div class=\"colab-df-container\">\n",
              "      <div>\n",
              "<style scoped>\n",
              "    .dataframe tbody tr th:only-of-type {\n",
              "        vertical-align: middle;\n",
              "    }\n",
              "\n",
              "    .dataframe tbody tr th {\n",
              "        vertical-align: top;\n",
              "    }\n",
              "\n",
              "    .dataframe thead th {\n",
              "        text-align: right;\n",
              "    }\n",
              "</style>\n",
              "<table border=\"1\" class=\"dataframe\">\n",
              "  <thead>\n",
              "    <tr style=\"text-align: right;\">\n",
              "      <th></th>\n",
              "      <th>policy_id</th>\n",
              "      <th>policy_tenure</th>\n",
              "      <th>age_of_car</th>\n",
              "      <th>age_of_policyholder</th>\n",
              "      <th>area_cluster</th>\n",
              "      <th>population_density</th>\n",
              "      <th>make</th>\n",
              "      <th>segment</th>\n",
              "      <th>model</th>\n",
              "      <th>fuel_type</th>\n",
              "      <th>...</th>\n",
              "      <th>is_brake_assist</th>\n",
              "      <th>is_power_door_locks</th>\n",
              "      <th>is_central_locking</th>\n",
              "      <th>is_power_steering</th>\n",
              "      <th>is_driver_seat_height_adjustable</th>\n",
              "      <th>is_day_night_rear_view_mirror</th>\n",
              "      <th>is_ecw</th>\n",
              "      <th>is_speed_alert</th>\n",
              "      <th>ncap_rating</th>\n",
              "      <th>is_claim</th>\n",
              "    </tr>\n",
              "  </thead>\n",
              "  <tbody>\n",
              "    <tr>\n",
              "      <th>0</th>\n",
              "      <td>ID00001</td>\n",
              "      <td>0.515874</td>\n",
              "      <td>0.05</td>\n",
              "      <td>0.644231</td>\n",
              "      <td>C1</td>\n",
              "      <td>4990</td>\n",
              "      <td>1</td>\n",
              "      <td>A</td>\n",
              "      <td>M1</td>\n",
              "      <td>CNG</td>\n",
              "      <td>...</td>\n",
              "      <td>No</td>\n",
              "      <td>No</td>\n",
              "      <td>No</td>\n",
              "      <td>Yes</td>\n",
              "      <td>No</td>\n",
              "      <td>No</td>\n",
              "      <td>No</td>\n",
              "      <td>Yes</td>\n",
              "      <td>0</td>\n",
              "      <td>0</td>\n",
              "    </tr>\n",
              "    <tr>\n",
              "      <th>1</th>\n",
              "      <td>ID00002</td>\n",
              "      <td>0.672619</td>\n",
              "      <td>0.02</td>\n",
              "      <td>0.375000</td>\n",
              "      <td>C2</td>\n",
              "      <td>27003</td>\n",
              "      <td>1</td>\n",
              "      <td>A</td>\n",
              "      <td>M1</td>\n",
              "      <td>CNG</td>\n",
              "      <td>...</td>\n",
              "      <td>No</td>\n",
              "      <td>No</td>\n",
              "      <td>No</td>\n",
              "      <td>Yes</td>\n",
              "      <td>No</td>\n",
              "      <td>No</td>\n",
              "      <td>No</td>\n",
              "      <td>Yes</td>\n",
              "      <td>0</td>\n",
              "      <td>0</td>\n",
              "    </tr>\n",
              "    <tr>\n",
              "      <th>2</th>\n",
              "      <td>ID00003</td>\n",
              "      <td>0.841110</td>\n",
              "      <td>0.02</td>\n",
              "      <td>0.384615</td>\n",
              "      <td>C3</td>\n",
              "      <td>4076</td>\n",
              "      <td>1</td>\n",
              "      <td>A</td>\n",
              "      <td>M1</td>\n",
              "      <td>CNG</td>\n",
              "      <td>...</td>\n",
              "      <td>No</td>\n",
              "      <td>No</td>\n",
              "      <td>No</td>\n",
              "      <td>Yes</td>\n",
              "      <td>No</td>\n",
              "      <td>No</td>\n",
              "      <td>No</td>\n",
              "      <td>Yes</td>\n",
              "      <td>0</td>\n",
              "      <td>0</td>\n",
              "    </tr>\n",
              "    <tr>\n",
              "      <th>3</th>\n",
              "      <td>ID00004</td>\n",
              "      <td>0.900277</td>\n",
              "      <td>0.11</td>\n",
              "      <td>0.432692</td>\n",
              "      <td>C4</td>\n",
              "      <td>21622</td>\n",
              "      <td>1</td>\n",
              "      <td>C1</td>\n",
              "      <td>M2</td>\n",
              "      <td>Petrol</td>\n",
              "      <td>...</td>\n",
              "      <td>Yes</td>\n",
              "      <td>Yes</td>\n",
              "      <td>Yes</td>\n",
              "      <td>Yes</td>\n",
              "      <td>Yes</td>\n",
              "      <td>Yes</td>\n",
              "      <td>Yes</td>\n",
              "      <td>Yes</td>\n",
              "      <td>2</td>\n",
              "      <td>0</td>\n",
              "    </tr>\n",
              "    <tr>\n",
              "      <th>4</th>\n",
              "      <td>ID00005</td>\n",
              "      <td>0.596403</td>\n",
              "      <td>0.11</td>\n",
              "      <td>0.634615</td>\n",
              "      <td>C5</td>\n",
              "      <td>34738</td>\n",
              "      <td>2</td>\n",
              "      <td>A</td>\n",
              "      <td>M3</td>\n",
              "      <td>Petrol</td>\n",
              "      <td>...</td>\n",
              "      <td>No</td>\n",
              "      <td>Yes</td>\n",
              "      <td>Yes</td>\n",
              "      <td>Yes</td>\n",
              "      <td>No</td>\n",
              "      <td>Yes</td>\n",
              "      <td>Yes</td>\n",
              "      <td>Yes</td>\n",
              "      <td>2</td>\n",
              "      <td>0</td>\n",
              "    </tr>\n",
              "    <tr>\n",
              "      <th>5</th>\n",
              "      <td>ID00006</td>\n",
              "      <td>1.018709</td>\n",
              "      <td>0.07</td>\n",
              "      <td>0.519231</td>\n",
              "      <td>C6</td>\n",
              "      <td>13051</td>\n",
              "      <td>3</td>\n",
              "      <td>C2</td>\n",
              "      <td>M4</td>\n",
              "      <td>Diesel</td>\n",
              "      <td>...</td>\n",
              "      <td>Yes</td>\n",
              "      <td>Yes</td>\n",
              "      <td>Yes</td>\n",
              "      <td>Yes</td>\n",
              "      <td>Yes</td>\n",
              "      <td>No</td>\n",
              "      <td>Yes</td>\n",
              "      <td>Yes</td>\n",
              "      <td>3</td>\n",
              "      <td>0</td>\n",
              "    </tr>\n",
              "    <tr>\n",
              "      <th>6</th>\n",
              "      <td>ID00007</td>\n",
              "      <td>0.097992</td>\n",
              "      <td>0.16</td>\n",
              "      <td>0.403846</td>\n",
              "      <td>C7</td>\n",
              "      <td>6112</td>\n",
              "      <td>4</td>\n",
              "      <td>B2</td>\n",
              "      <td>M5</td>\n",
              "      <td>Diesel</td>\n",
              "      <td>...</td>\n",
              "      <td>No</td>\n",
              "      <td>Yes</td>\n",
              "      <td>Yes</td>\n",
              "      <td>Yes</td>\n",
              "      <td>No</td>\n",
              "      <td>No</td>\n",
              "      <td>Yes</td>\n",
              "      <td>Yes</td>\n",
              "      <td>5</td>\n",
              "      <td>0</td>\n",
              "    </tr>\n",
              "    <tr>\n",
              "      <th>7</th>\n",
              "      <td>ID00008</td>\n",
              "      <td>0.509085</td>\n",
              "      <td>0.14</td>\n",
              "      <td>0.423077</td>\n",
              "      <td>C8</td>\n",
              "      <td>8794</td>\n",
              "      <td>1</td>\n",
              "      <td>B2</td>\n",
              "      <td>M6</td>\n",
              "      <td>Petrol</td>\n",
              "      <td>...</td>\n",
              "      <td>Yes</td>\n",
              "      <td>Yes</td>\n",
              "      <td>Yes</td>\n",
              "      <td>Yes</td>\n",
              "      <td>Yes</td>\n",
              "      <td>Yes</td>\n",
              "      <td>Yes</td>\n",
              "      <td>Yes</td>\n",
              "      <td>2</td>\n",
              "      <td>0</td>\n",
              "    </tr>\n",
              "    <tr>\n",
              "      <th>8</th>\n",
              "      <td>ID00009</td>\n",
              "      <td>0.282394</td>\n",
              "      <td>0.07</td>\n",
              "      <td>0.298077</td>\n",
              "      <td>C7</td>\n",
              "      <td>6112</td>\n",
              "      <td>3</td>\n",
              "      <td>C2</td>\n",
              "      <td>M4</td>\n",
              "      <td>Diesel</td>\n",
              "      <td>...</td>\n",
              "      <td>Yes</td>\n",
              "      <td>Yes</td>\n",
              "      <td>Yes</td>\n",
              "      <td>Yes</td>\n",
              "      <td>Yes</td>\n",
              "      <td>No</td>\n",
              "      <td>Yes</td>\n",
              "      <td>Yes</td>\n",
              "      <td>3</td>\n",
              "      <td>0</td>\n",
              "    </tr>\n",
              "    <tr>\n",
              "      <th>9</th>\n",
              "      <td>ID00010</td>\n",
              "      <td>0.566255</td>\n",
              "      <td>0.04</td>\n",
              "      <td>0.442308</td>\n",
              "      <td>C9</td>\n",
              "      <td>17804</td>\n",
              "      <td>1</td>\n",
              "      <td>B2</td>\n",
              "      <td>M7</td>\n",
              "      <td>Petrol</td>\n",
              "      <td>...</td>\n",
              "      <td>Yes</td>\n",
              "      <td>Yes</td>\n",
              "      <td>Yes</td>\n",
              "      <td>Yes</td>\n",
              "      <td>Yes</td>\n",
              "      <td>Yes</td>\n",
              "      <td>Yes</td>\n",
              "      <td>Yes</td>\n",
              "      <td>0</td>\n",
              "      <td>0</td>\n",
              "    </tr>\n",
              "  </tbody>\n",
              "</table>\n",
              "<p>10 rows × 44 columns</p>\n",
              "</div>\n",
              "      <button class=\"colab-df-convert\" onclick=\"convertToInteractive('df-cf4bfb4a-b87d-4d0f-9c44-bc17b8f355ef')\"\n",
              "              title=\"Convert this dataframe to an interactive table.\"\n",
              "              style=\"display:none;\">\n",
              "        \n",
              "  <svg xmlns=\"http://www.w3.org/2000/svg\" height=\"24px\"viewBox=\"0 0 24 24\"\n",
              "       width=\"24px\">\n",
              "    <path d=\"M0 0h24v24H0V0z\" fill=\"none\"/>\n",
              "    <path d=\"M18.56 5.44l.94 2.06.94-2.06 2.06-.94-2.06-.94-.94-2.06-.94 2.06-2.06.94zm-11 1L8.5 8.5l.94-2.06 2.06-.94-2.06-.94L8.5 2.5l-.94 2.06-2.06.94zm10 10l.94 2.06.94-2.06 2.06-.94-2.06-.94-.94-2.06-.94 2.06-2.06.94z\"/><path d=\"M17.41 7.96l-1.37-1.37c-.4-.4-.92-.59-1.43-.59-.52 0-1.04.2-1.43.59L10.3 9.45l-7.72 7.72c-.78.78-.78 2.05 0 2.83L4 21.41c.39.39.9.59 1.41.59.51 0 1.02-.2 1.41-.59l7.78-7.78 2.81-2.81c.8-.78.8-2.07 0-2.86zM5.41 20L4 18.59l7.72-7.72 1.47 1.35L5.41 20z\"/>\n",
              "  </svg>\n",
              "      </button>\n",
              "      \n",
              "  <style>\n",
              "    .colab-df-container {\n",
              "      display:flex;\n",
              "      flex-wrap:wrap;\n",
              "      gap: 12px;\n",
              "    }\n",
              "\n",
              "    .colab-df-convert {\n",
              "      background-color: #E8F0FE;\n",
              "      border: none;\n",
              "      border-radius: 50%;\n",
              "      cursor: pointer;\n",
              "      display: none;\n",
              "      fill: #1967D2;\n",
              "      height: 32px;\n",
              "      padding: 0 0 0 0;\n",
              "      width: 32px;\n",
              "    }\n",
              "\n",
              "    .colab-df-convert:hover {\n",
              "      background-color: #E2EBFA;\n",
              "      box-shadow: 0px 1px 2px rgba(60, 64, 67, 0.3), 0px 1px 3px 1px rgba(60, 64, 67, 0.15);\n",
              "      fill: #174EA6;\n",
              "    }\n",
              "\n",
              "    [theme=dark] .colab-df-convert {\n",
              "      background-color: #3B4455;\n",
              "      fill: #D2E3FC;\n",
              "    }\n",
              "\n",
              "    [theme=dark] .colab-df-convert:hover {\n",
              "      background-color: #434B5C;\n",
              "      box-shadow: 0px 1px 3px 1px rgba(0, 0, 0, 0.15);\n",
              "      filter: drop-shadow(0px 1px 2px rgba(0, 0, 0, 0.3));\n",
              "      fill: #FFFFFF;\n",
              "    }\n",
              "  </style>\n",
              "\n",
              "      <script>\n",
              "        const buttonEl =\n",
              "          document.querySelector('#df-cf4bfb4a-b87d-4d0f-9c44-bc17b8f355ef button.colab-df-convert');\n",
              "        buttonEl.style.display =\n",
              "          google.colab.kernel.accessAllowed ? 'block' : 'none';\n",
              "\n",
              "        async function convertToInteractive(key) {\n",
              "          const element = document.querySelector('#df-cf4bfb4a-b87d-4d0f-9c44-bc17b8f355ef');\n",
              "          const dataTable =\n",
              "            await google.colab.kernel.invokeFunction('convertToInteractive',\n",
              "                                                     [key], {});\n",
              "          if (!dataTable) return;\n",
              "\n",
              "          const docLinkHtml = 'Like what you see? Visit the ' +\n",
              "            '<a target=\"_blank\" href=https://colab.research.google.com/notebooks/data_table.ipynb>data table notebook</a>'\n",
              "            + ' to learn more about interactive tables.';\n",
              "          element.innerHTML = '';\n",
              "          dataTable['output_type'] = 'display_data';\n",
              "          await google.colab.output.renderOutput(dataTable, element);\n",
              "          const docLink = document.createElement('div');\n",
              "          docLink.innerHTML = docLinkHtml;\n",
              "          element.appendChild(docLink);\n",
              "        }\n",
              "      </script>\n",
              "    </div>\n",
              "  </div>\n",
              "  "
            ]
          },
          "metadata": {},
          "execution_count": 3
        }
      ]
    },
    {
      "cell_type": "code",
      "source": [
        "#Vizualização simplória dos tipos de dados e da quantidade de variáveis que o dataset possui \n",
        "#Sem valores nulos, com um total de 58592 amostras\n",
        "df.info(verbose = True)"
      ],
      "metadata": {
        "colab": {
          "base_uri": "https://localhost:8080/"
        },
        "id": "cSyxPVhutAYL",
        "outputId": "202480de-dade-42e9-bef2-070f8a3a0953"
      },
      "execution_count": 4,
      "outputs": [
        {
          "output_type": "stream",
          "name": "stdout",
          "text": [
            "<class 'pandas.core.frame.DataFrame'>\n",
            "RangeIndex: 58592 entries, 0 to 58591\n",
            "Data columns (total 44 columns):\n",
            " #   Column                            Non-Null Count  Dtype  \n",
            "---  ------                            --------------  -----  \n",
            " 0   policy_id                         58592 non-null  object \n",
            " 1   policy_tenure                     58592 non-null  float64\n",
            " 2   age_of_car                        58592 non-null  float64\n",
            " 3   age_of_policyholder               58592 non-null  float64\n",
            " 4   area_cluster                      58592 non-null  object \n",
            " 5   population_density                58592 non-null  int64  \n",
            " 6   make                              58592 non-null  int64  \n",
            " 7   segment                           58592 non-null  object \n",
            " 8   model                             58592 non-null  object \n",
            " 9   fuel_type                         58592 non-null  object \n",
            " 10  max_torque                        58592 non-null  object \n",
            " 11  max_power                         58592 non-null  object \n",
            " 12  engine_type                       58592 non-null  object \n",
            " 13  airbags                           58592 non-null  int64  \n",
            " 14  is_esc                            58592 non-null  object \n",
            " 15  is_adjustable_steering            58592 non-null  object \n",
            " 16  is_tpms                           58592 non-null  object \n",
            " 17  is_parking_sensors                58592 non-null  object \n",
            " 18  is_parking_camera                 58592 non-null  object \n",
            " 19  rear_brakes_type                  58592 non-null  object \n",
            " 20  displacement                      58592 non-null  int64  \n",
            " 21  cylinder                          58592 non-null  int64  \n",
            " 22  transmission_type                 58592 non-null  object \n",
            " 23  gear_box                          58592 non-null  int64  \n",
            " 24  steering_type                     58592 non-null  object \n",
            " 25  turning_radius                    58592 non-null  float64\n",
            " 26  length                            58592 non-null  int64  \n",
            " 27  width                             58592 non-null  int64  \n",
            " 28  height                            58592 non-null  int64  \n",
            " 29  gross_weight                      58592 non-null  int64  \n",
            " 30  is_front_fog_lights               58592 non-null  object \n",
            " 31  is_rear_window_wiper              58592 non-null  object \n",
            " 32  is_rear_window_washer             58592 non-null  object \n",
            " 33  is_rear_window_defogger           58592 non-null  object \n",
            " 34  is_brake_assist                   58592 non-null  object \n",
            " 35  is_power_door_locks               58592 non-null  object \n",
            " 36  is_central_locking                58592 non-null  object \n",
            " 37  is_power_steering                 58592 non-null  object \n",
            " 38  is_driver_seat_height_adjustable  58592 non-null  object \n",
            " 39  is_day_night_rear_view_mirror     58592 non-null  object \n",
            " 40  is_ecw                            58592 non-null  object \n",
            " 41  is_speed_alert                    58592 non-null  object \n",
            " 42  ncap_rating                       58592 non-null  int64  \n",
            " 43  is_claim                          58592 non-null  int64  \n",
            "dtypes: float64(4), int64(12), object(28)\n",
            "memory usage: 19.7+ MB\n"
          ]
        }
      ]
    },
    {
      "cell_type": "code",
      "source": [
        "#Quantidade de cidades onde os dados foram coletados\n",
        "df[\"population_density\"].nunique()"
      ],
      "metadata": {
        "colab": {
          "base_uri": "https://localhost:8080/"
        },
        "id": "5cb2HOyo10g3",
        "outputId": "00d1aba7-8d66-49d3-e596-614da547814c"
      },
      "execution_count": 5,
      "outputs": [
        {
          "output_type": "execute_result",
          "data": {
            "text/plain": [
              "22"
            ]
          },
          "metadata": {},
          "execution_count": 5
        }
      ]
    },
    {
      "cell_type": "code",
      "source": [
        "#Quantidade de modelos dos carros\n",
        "df[\"model\"].nunique()"
      ],
      "metadata": {
        "colab": {
          "base_uri": "https://localhost:8080/"
        },
        "id": "2O-DDrWG7IsY",
        "outputId": "27130cb8-3c15-4879-ca05-29c5e3c01243"
      },
      "execution_count": 6,
      "outputs": [
        {
          "output_type": "execute_result",
          "data": {
            "text/plain": [
              "11"
            ]
          },
          "metadata": {},
          "execution_count": 6
        }
      ]
    },
    {
      "cell_type": "markdown",
      "source": [
        "# Preprocessamento"
      ],
      "metadata": {
        "id": "mmz1zyFApipF"
      }
    },
    {
      "cell_type": "code",
      "source": [
        "#Transformando valores Sim e Não em booleanos\n",
        "df = df.replace({ \"No\" : False , \"Yes\" : True })\n",
        "\n",
        "#Remoção da coluna policy_id\n",
        "df.drop(columns = \"policy_id\", inplace = True)"
      ],
      "metadata": {
        "id": "l7HTP3Em9sCG"
      },
      "execution_count": 7,
      "outputs": []
    },
    {
      "cell_type": "markdown",
      "source": [
        "**Codificação das variáveis do tipo \"object\" utilizando a função get_dummies**"
      ],
      "metadata": {
        "id": "2gqPHrOl02u1"
      }
    },
    {
      "cell_type": "code",
      "source": [
        "#Passando o dataframe para uma nova variável para que não atrapalhe na análise exploratória\n",
        "categorical_cols = df.select_dtypes(include=['object']).columns\n",
        "\n",
        "dff = pd.get_dummies(df, columns=categorical_cols)"
      ],
      "metadata": {
        "id": "LpvW6HhW1K9O"
      },
      "execution_count": 8,
      "outputs": []
    },
    {
      "cell_type": "code",
      "source": [
        "dff.info(verbose = True)"
      ],
      "metadata": {
        "colab": {
          "base_uri": "https://localhost:8080/"
        },
        "id": "VDIN0jsGMJeL",
        "outputId": "b20da0c5-8a7b-43cb-91cf-4db7cb9e5dab"
      },
      "execution_count": 9,
      "outputs": [
        {
          "output_type": "stream",
          "name": "stdout",
          "text": [
            "<class 'pandas.core.frame.DataFrame'>\n",
            "RangeIndex: 58592 entries, 0 to 58591\n",
            "Data columns (total 111 columns):\n",
            " #    Column                                 Dtype  \n",
            "---   ------                                 -----  \n",
            " 0    policy_tenure                          float64\n",
            " 1    age_of_car                             float64\n",
            " 2    age_of_policyholder                    float64\n",
            " 3    population_density                     int64  \n",
            " 4    make                                   int64  \n",
            " 5    airbags                                int64  \n",
            " 6    is_esc                                 bool   \n",
            " 7    is_adjustable_steering                 bool   \n",
            " 8    is_tpms                                bool   \n",
            " 9    is_parking_sensors                     bool   \n",
            " 10   is_parking_camera                      bool   \n",
            " 11   displacement                           int64  \n",
            " 12   cylinder                               int64  \n",
            " 13   gear_box                               int64  \n",
            " 14   turning_radius                         float64\n",
            " 15   length                                 int64  \n",
            " 16   width                                  int64  \n",
            " 17   height                                 int64  \n",
            " 18   gross_weight                           int64  \n",
            " 19   is_front_fog_lights                    bool   \n",
            " 20   is_rear_window_wiper                   bool   \n",
            " 21   is_rear_window_washer                  bool   \n",
            " 22   is_rear_window_defogger                bool   \n",
            " 23   is_brake_assist                        bool   \n",
            " 24   is_power_door_locks                    bool   \n",
            " 25   is_central_locking                     bool   \n",
            " 26   is_power_steering                      bool   \n",
            " 27   is_driver_seat_height_adjustable       bool   \n",
            " 28   is_day_night_rear_view_mirror          bool   \n",
            " 29   is_ecw                                 bool   \n",
            " 30   is_speed_alert                         bool   \n",
            " 31   ncap_rating                            int64  \n",
            " 32   is_claim                               int64  \n",
            " 33   area_cluster_C1                        uint8  \n",
            " 34   area_cluster_C10                       uint8  \n",
            " 35   area_cluster_C11                       uint8  \n",
            " 36   area_cluster_C12                       uint8  \n",
            " 37   area_cluster_C13                       uint8  \n",
            " 38   area_cluster_C14                       uint8  \n",
            " 39   area_cluster_C15                       uint8  \n",
            " 40   area_cluster_C16                       uint8  \n",
            " 41   area_cluster_C17                       uint8  \n",
            " 42   area_cluster_C18                       uint8  \n",
            " 43   area_cluster_C19                       uint8  \n",
            " 44   area_cluster_C2                        uint8  \n",
            " 45   area_cluster_C20                       uint8  \n",
            " 46   area_cluster_C21                       uint8  \n",
            " 47   area_cluster_C22                       uint8  \n",
            " 48   area_cluster_C3                        uint8  \n",
            " 49   area_cluster_C4                        uint8  \n",
            " 50   area_cluster_C5                        uint8  \n",
            " 51   area_cluster_C6                        uint8  \n",
            " 52   area_cluster_C7                        uint8  \n",
            " 53   area_cluster_C8                        uint8  \n",
            " 54   area_cluster_C9                        uint8  \n",
            " 55   segment_A                              uint8  \n",
            " 56   segment_B1                             uint8  \n",
            " 57   segment_B2                             uint8  \n",
            " 58   segment_C1                             uint8  \n",
            " 59   segment_C2                             uint8  \n",
            " 60   segment_Utility                        uint8  \n",
            " 61   model_M1                               uint8  \n",
            " 62   model_M10                              uint8  \n",
            " 63   model_M11                              uint8  \n",
            " 64   model_M2                               uint8  \n",
            " 65   model_M3                               uint8  \n",
            " 66   model_M4                               uint8  \n",
            " 67   model_M5                               uint8  \n",
            " 68   model_M6                               uint8  \n",
            " 69   model_M7                               uint8  \n",
            " 70   model_M8                               uint8  \n",
            " 71   model_M9                               uint8  \n",
            " 72   fuel_type_CNG                          uint8  \n",
            " 73   fuel_type_Diesel                       uint8  \n",
            " 74   fuel_type_Petrol                       uint8  \n",
            " 75   max_torque_113Nm@4400rpm               uint8  \n",
            " 76   max_torque_170Nm@4000rpm               uint8  \n",
            " 77   max_torque_200Nm@1750rpm               uint8  \n",
            " 78   max_torque_200Nm@3000rpm               uint8  \n",
            " 79   max_torque_250Nm@2750rpm               uint8  \n",
            " 80   max_torque_60Nm@3500rpm                uint8  \n",
            " 81   max_torque_82.1Nm@3400rpm              uint8  \n",
            " 82   max_torque_85Nm@3000rpm                uint8  \n",
            " 83   max_torque_91Nm@4250rpm                uint8  \n",
            " 84   max_power_113.45bhp@4000rpm            uint8  \n",
            " 85   max_power_118.36bhp@5500rpm            uint8  \n",
            " 86   max_power_40.36bhp@6000rpm             uint8  \n",
            " 87   max_power_55.92bhp@5300rpm             uint8  \n",
            " 88   max_power_61.68bhp@6000rpm             uint8  \n",
            " 89   max_power_67.06bhp@5500rpm             uint8  \n",
            " 90   max_power_88.50bhp@6000rpm             uint8  \n",
            " 91   max_power_88.77bhp@4000rpm             uint8  \n",
            " 92   max_power_97.89bhp@3600rpm             uint8  \n",
            " 93   engine_type_1.0 SCe                    uint8  \n",
            " 94   engine_type_1.2 L K Series Engine      uint8  \n",
            " 95   engine_type_1.2 L K12N Dualjet         uint8  \n",
            " 96   engine_type_1.5 L U2 CRDi              uint8  \n",
            " 97   engine_type_1.5 Turbocharged Revotorq  uint8  \n",
            " 98   engine_type_1.5 Turbocharged Revotron  uint8  \n",
            " 99   engine_type_F8D Petrol Engine          uint8  \n",
            " 100  engine_type_G12B                       uint8  \n",
            " 101  engine_type_K Series Dual jet          uint8  \n",
            " 102  engine_type_K10C                       uint8  \n",
            " 103  engine_type_i-DTEC                     uint8  \n",
            " 104  rear_brakes_type_Disc                  uint8  \n",
            " 105  rear_brakes_type_Drum                  uint8  \n",
            " 106  transmission_type_Automatic            uint8  \n",
            " 107  transmission_type_Manual               uint8  \n",
            " 108  steering_type_Electric                 uint8  \n",
            " 109  steering_type_Manual                   uint8  \n",
            " 110  steering_type_Power                    uint8  \n",
            "dtypes: bool(17), float64(4), int64(12), uint8(78)\n",
            "memory usage: 12.5 MB\n"
          ]
        }
      ]
    },
    {
      "cell_type": "code",
      "source": [
        "X = dff.drop(columns = \"is_claim\")\n",
        "y = dff[\"is_claim\"]"
      ],
      "metadata": {
        "id": "IEVHTNtKaoxK"
      },
      "execution_count": 10,
      "outputs": []
    },
    {
      "cell_type": "markdown",
      "source": [
        "**Classes target antes do balanceamento**"
      ],
      "metadata": {
        "id": "RFp_kOmm0Eme"
      }
    },
    {
      "cell_type": "code",
      "source": [
        "len(y)"
      ],
      "metadata": {
        "colab": {
          "base_uri": "https://localhost:8080/"
        },
        "id": "h3Bv1BxUy1Re",
        "outputId": "5894a3a7-8bd9-4422-f997-5814d5da0015"
      },
      "execution_count": 11,
      "outputs": [
        {
          "output_type": "execute_result",
          "data": {
            "text/plain": [
              "58592"
            ]
          },
          "metadata": {},
          "execution_count": 11
        }
      ]
    },
    {
      "cell_type": "code",
      "source": [
        "y.value_counts()"
      ],
      "metadata": {
        "colab": {
          "base_uri": "https://localhost:8080/"
        },
        "id": "lxsDVgn74h_R",
        "outputId": "fc1fe8ae-4b7d-479b-a71a-3bba5fe05a2c"
      },
      "execution_count": 12,
      "outputs": [
        {
          "output_type": "execute_result",
          "data": {
            "text/plain": [
              "0    54844\n",
              "1     3748\n",
              "Name: is_claim, dtype: int64"
            ]
          },
          "metadata": {},
          "execution_count": 12
        }
      ]
    },
    {
      "cell_type": "code",
      "source": [
        "sns.countplot(dff[\"is_claim\"])"
      ],
      "metadata": {
        "colab": {
          "base_uri": "https://localhost:8080/",
          "height": 352
        },
        "id": "idKaSeyxXXyA",
        "outputId": "ab159831-928f-4ce4-aa10-92d752bf3ca7"
      },
      "execution_count": 13,
      "outputs": [
        {
          "output_type": "stream",
          "name": "stderr",
          "text": [
            "/usr/local/lib/python3.7/dist-packages/seaborn/_decorators.py:43: FutureWarning: Pass the following variable as a keyword arg: x. From version 0.12, the only valid positional argument will be `data`, and passing other arguments without an explicit keyword will result in an error or misinterpretation.\n",
            "  FutureWarning\n"
          ]
        },
        {
          "output_type": "execute_result",
          "data": {
            "text/plain": [
              "<AxesSubplot:xlabel='is_claim', ylabel='count'>"
            ]
          },
          "metadata": {},
          "execution_count": 13
        },
        {
          "output_type": "display_data",
          "data": {
            "text/plain": [
              "<Figure size 432x288 with 1 Axes>"
            ],
            "image/png": "[encoded data removed]"
          },
          "metadata": {
            "needs_background": "light"
          }
        }
      ]
    },
    {
      "cell_type": "markdown",
      "source": [
        "**Aplicação do método de balanceamento SMOTEENN**"
      ],
      "metadata": {
        "id": "zDATFLbxz9Kl"
      }
    },
    {
      "cell_type": "code",
      "source": [
        "smt = SMOTEENN()\n",
        "X_res, y_res = smt.fit_resample(X, y)"
      ],
      "metadata": {
        "id": "nFh8HAFPR-Hg"
      },
      "execution_count": 14,
      "outputs": []
    },
    {
      "cell_type": "code",
      "source": [
        "len(y_res)"
      ],
      "metadata": {
        "id": "Fu1Jt-i1Xrjq",
        "colab": {
          "base_uri": "https://localhost:8080/"
        },
        "outputId": "faf65a96-a929-497d-e18f-a06a7a561c30"
      },
      "execution_count": 15,
      "outputs": [
        {
          "output_type": "execute_result",
          "data": {
            "text/plain": [
              "74130"
            ]
          },
          "metadata": {},
          "execution_count": 15
        }
      ]
    },
    {
      "cell_type": "code",
      "source": [
        "y_res.value_counts()"
      ],
      "metadata": {
        "id": "lyhkgpLT4k0P",
        "colab": {
          "base_uri": "https://localhost:8080/"
        },
        "outputId": "f5a95765-b0b2-48b8-f9f0-c51fb8cb59f1"
      },
      "execution_count": 16,
      "outputs": [
        {
          "output_type": "execute_result",
          "data": {
            "text/plain": [
              "1    40876\n",
              "0    33254\n",
              "Name: is_claim, dtype: int64"
            ]
          },
          "metadata": {},
          "execution_count": 16
        }
      ]
    },
    {
      "cell_type": "code",
      "source": [
        "sns.countplot(y_res)"
      ],
      "metadata": {
        "id": "nS0H_pJlXfzy",
        "colab": {
          "base_uri": "https://localhost:8080/",
          "height": 352
        },
        "outputId": "b86237a1-7486-4114-aa67-567d4fbb9294"
      },
      "execution_count": 17,
      "outputs": [
        {
          "output_type": "stream",
          "name": "stderr",
          "text": [
            "/usr/local/lib/python3.7/dist-packages/seaborn/_decorators.py:43: FutureWarning: Pass the following variable as a keyword arg: x. From version 0.12, the only valid positional argument will be `data`, and passing other arguments without an explicit keyword will result in an error or misinterpretation.\n",
            "  FutureWarning\n"
          ]
        },
        {
          "output_type": "execute_result",
          "data": {
            "text/plain": [
              "<AxesSubplot:xlabel='is_claim', ylabel='count'>"
            ]
          },
          "metadata": {},
          "execution_count": 17
        },
        {
          "output_type": "display_data",
          "data": {
            "text/plain": [
              "<Figure size 432x288 with 1 Axes>"
            ],
            "image/png": "[encoded data removed]"
          },
          "metadata": {
            "needs_background": "light"
          }
        }
      ]
    },
    {
      "cell_type": "markdown",
      "source": [
        "# Modelagem preditiva e avaliação do modelo"
      ],
      "metadata": {
        "id": "XEJ1BavzpvNk"
      }
    },
    {
      "cell_type": "code",
      "source": [
        "X_train, X_test, y_train, y_test = train_test_split(X_res, y_res, test_size=0.20)"
      ],
      "metadata": {
        "id": "CMl4d8wxIWoa"
      },
      "execution_count": 18,
      "outputs": []
    },
    {
      "cell_type": "code",
      "source": [
        "classifier = RandomForestClassifier()\n",
        " \n",
        "classifier.fit(X_train,y_train)\n",
        "\n",
        "preds = classifier.predict(X_test)"
      ],
      "metadata": {
        "id": "7aW_QjnQ6SIm"
      },
      "execution_count": 19,
      "outputs": []
    },
    {
      "cell_type": "code",
      "source": [
        "accuracy_score(y_test,preds) "
      ],
      "metadata": {
        "id": "aSBgugH9GiV5",
        "colab": {
          "base_uri": "https://localhost:8080/"
        },
        "outputId": "6e0514d1-4267-4ff9-bece-dbb8e7bf070e"
      },
      "execution_count": 20,
      "outputs": [
        {
          "output_type": "execute_result",
          "data": {
            "text/plain": [
              "0.9674895453932281"
            ]
          },
          "metadata": {},
          "execution_count": 20
        }
      ]
    },
    {
      "cell_type": "code",
      "source": [
        "print(classification_report(y_test, preds))"
      ],
      "metadata": {
        "id": "NCIDKdQy43Ad",
        "colab": {
          "base_uri": "https://localhost:8080/"
        },
        "outputId": "ef190f2e-a748-4833-dfdc-648f5ad1c75d"
      },
      "execution_count": 21,
      "outputs": [
        {
          "output_type": "stream",
          "name": "stdout",
          "text": [
            "              precision    recall  f1-score   support\n",
            "\n",
            "           0       0.97      0.96      0.96      6610\n",
            "           1       0.97      0.97      0.97      8216\n",
            "\n",
            "    accuracy                           0.97     14826\n",
            "   macro avg       0.97      0.97      0.97     14826\n",
            "weighted avg       0.97      0.97      0.97     14826\n",
            "\n"
          ]
        }
      ]
    },
    {
      "cell_type": "code",
      "source": [
        "pp_matrix_from_data(y_test, preds)"
      ],
      "metadata": {
        "colab": {
          "base_uri": "https://localhost:8080/",
          "height": 657
        },
        "id": "mPn3zGIT8bHN",
        "outputId": "7191ee0e-7947-4d6f-ced2-54fca2526ada"
      },
      "execution_count": 22,
      "outputs": [
        {
          "output_type": "display_data",
          "data": {
            "text/plain": [
              "<Figure size 648x648 with 1 Axes>"
            ],
            "image/png": "[encoded data removed]"
          },
          "metadata": {
            "needs_background": "light"
          }
        }
      ]
    }
  ]
}